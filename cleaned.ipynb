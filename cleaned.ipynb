{
 "cells": [
  {
   "cell_type": "markdown",
   "metadata": {},
   "source": [
    "Since we are done with collecting the data from the given site. We must clean the data to get rid of unnecessary informaation."
   ]
  },
  {
   "cell_type": "code",
   "execution_count": 23,
   "metadata": {},
   "outputs": [
    {
     "name": "stdout",
     "output_type": "stream",
     "text": [
      "Collecting nltk\n",
      "  Downloading nltk-3.8.1-py3-none-any.whl (1.5 MB)\n",
      "     ---------------------------------------- 1.5/1.5 MB 7.4 MB/s eta 0:00:00\n",
      "Requirement already satisfied: click in c:\\users\\admin\\appdata\\local\\programs\\python\\python310\\lib\\site-packages (from nltk) (8.1.3)\n",
      "Collecting tqdm\n",
      "  Downloading tqdm-4.66.1-py3-none-any.whl (78 kB)\n",
      "     ---------------------------------------- 78.3/78.3 KB 4.3 MB/s eta 0:00:00\n",
      "Collecting regex>=2021.8.3\n",
      "  Downloading regex-2023.10.3-cp310-cp310-win_amd64.whl (269 kB)\n",
      "     ------------------------------------- 269.6/269.6 KB 16.2 MB/s eta 0:00:00\n",
      "Requirement already satisfied: joblib in c:\\users\\admin\\appdata\\local\\programs\\python\\python310\\lib\\site-packages (from nltk) (1.1.0)\n",
      "Requirement already satisfied: colorama in c:\\users\\admin\\appdata\\local\\programs\\python\\python310\\lib\\site-packages (from click->nltk) (0.4.5)\n",
      "Installing collected packages: tqdm, regex, nltk\n",
      "Successfully installed nltk-3.8.1 regex-2023.10.3 tqdm-4.66.1\n",
      "Note: you may need to restart the kernel to use updated packages.\n"
     ]
    },
    {
     "name": "stderr",
     "output_type": "stream",
     "text": [
      "WARNING: You are using pip version 22.0.4; however, version 23.2.1 is available.\n",
      "You should consider upgrading via the 'c:\\Users\\admin\\AppData\\Local\\Programs\\Python\\Python310\\python.exe -m pip install --upgrade pip' command.\n"
     ]
    }
   ],
   "source": [
    "pip install nltk"
   ]
  },
  {
   "cell_type": "code",
   "execution_count": 29,
   "metadata": {},
   "outputs": [],
   "source": [
    "#imports\n",
    "import pandas as pd\n",
    "import matplotlib.pyplot as plt\n",
    "import seaborn as sns\n",
    "import os\n",
    "import re\n",
    "import nltk\n"
   ]
  },
  {
   "cell_type": "code",
   "execution_count": 33,
   "metadata": {},
   "outputs": [
    {
     "name": "stderr",
     "output_type": "stream",
     "text": [
      "[nltk_data] Downloading package wordnet to\n",
      "[nltk_data]     C:\\Users\\admin\\AppData\\Roaming\\nltk_data...\n"
     ]
    },
    {
     "data": {
      "text/plain": [
       "True"
      ]
     },
     "execution_count": 33,
     "metadata": {},
     "output_type": "execute_result"
    }
   ],
   "source": [
    "nltk.download('wordnet')"
   ]
  },
  {
   "cell_type": "code",
   "execution_count": 31,
   "metadata": {},
   "outputs": [
    {
     "name": "stderr",
     "output_type": "stream",
     "text": [
      "[nltk_data] Downloading package stopwords to\n",
      "[nltk_data]     C:\\Users\\admin\\AppData\\Roaming\\nltk_data...\n",
      "[nltk_data]   Unzipping corpora\\stopwords.zip.\n"
     ]
    },
    {
     "data": {
      "text/plain": [
       "True"
      ]
     },
     "execution_count": 31,
     "metadata": {},
     "output_type": "execute_result"
    }
   ],
   "source": [
    "nltk.download('stopwords')\n"
   ]
  },
  {
   "cell_type": "markdown",
   "metadata": {},
   "source": [
    "Loading the csv file \"BA_reviews2.csv\" into a dataframe."
   ]
  },
  {
   "cell_type": "code",
   "execution_count": 2,
   "metadata": {},
   "outputs": [],
   "source": [
    "df=pd.read_csv(\"C:/python(me)/british-airways/BA_reviews2.csv\")"
   ]
  },
  {
   "cell_type": "code",
   "execution_count": 3,
   "metadata": {},
   "outputs": [
    {
     "data": {
      "text/html": [
       "<div>\n",
       "<style scoped>\n",
       "    .dataframe tbody tr th:only-of-type {\n",
       "        vertical-align: middle;\n",
       "    }\n",
       "\n",
       "    .dataframe tbody tr th {\n",
       "        vertical-align: top;\n",
       "    }\n",
       "\n",
       "    .dataframe thead th {\n",
       "        text-align: right;\n",
       "    }\n",
       "</style>\n",
       "<table border=\"1\" class=\"dataframe\">\n",
       "  <thead>\n",
       "    <tr style=\"text-align: right;\">\n",
       "      <th></th>\n",
       "      <th>Unnamed: 0</th>\n",
       "      <th>reviews</th>\n",
       "      <th>stars</th>\n",
       "      <th>date</th>\n",
       "      <th>country</th>\n",
       "    </tr>\n",
       "  </thead>\n",
       "  <tbody>\n",
       "    <tr>\n",
       "      <th>0</th>\n",
       "      <td>0</td>\n",
       "      <td>✅ Trip Verified | The customer services (call ...</td>\n",
       "      <td>5</td>\n",
       "      <td>14th October 2023</td>\n",
       "      <td>United Kingdom</td>\n",
       "    </tr>\n",
       "    <tr>\n",
       "      <th>1</th>\n",
       "      <td>1</td>\n",
       "      <td>✅ Trip Verified |   I am a frequent flyer with...</td>\n",
       "      <td>3</td>\n",
       "      <td>14th October 2023</td>\n",
       "      <td>United Kingdom</td>\n",
       "    </tr>\n",
       "    <tr>\n",
       "      <th>2</th>\n",
       "      <td>2</td>\n",
       "      <td>Not Verified |  Flew with BA to Punta Cana. To...</td>\n",
       "      <td>5</td>\n",
       "      <td>12th October 2023</td>\n",
       "      <td>United Kingdom</td>\n",
       "    </tr>\n",
       "    <tr>\n",
       "      <th>3</th>\n",
       "      <td>3</td>\n",
       "      <td>✅ Trip Verified |   They downgraded me from bu...</td>\n",
       "      <td>4</td>\n",
       "      <td>12th October 2023</td>\n",
       "      <td>Australia</td>\n",
       "    </tr>\n",
       "    <tr>\n",
       "      <th>4</th>\n",
       "      <td>4</td>\n",
       "      <td>✅ Trip Verified |   The already delayed aircra...</td>\n",
       "      <td>1</td>\n",
       "      <td>11th October 2023</td>\n",
       "      <td>United Kingdom</td>\n",
       "    </tr>\n",
       "  </tbody>\n",
       "</table>\n",
       "</div>"
      ],
      "text/plain": [
       "   Unnamed: 0                                            reviews  stars  \\\n",
       "0           0  ✅ Trip Verified | The customer services (call ...      5   \n",
       "1           1  ✅ Trip Verified |   I am a frequent flyer with...      3   \n",
       "2           2  Not Verified |  Flew with BA to Punta Cana. To...      5   \n",
       "3           3  ✅ Trip Verified |   They downgraded me from bu...      4   \n",
       "4           4  ✅ Trip Verified |   The already delayed aircra...      1   \n",
       "\n",
       "                date         country  \n",
       "0  14th October 2023  United Kingdom  \n",
       "1  14th October 2023  United Kingdom  \n",
       "2  12th October 2023  United Kingdom  \n",
       "3  12th October 2023       Australia  \n",
       "4  11th October 2023  United Kingdom  "
      ]
     },
     "execution_count": 3,
     "metadata": {},
     "output_type": "execute_result"
    }
   ],
   "source": [
    "df.head(5)"
   ]
  },
  {
   "cell_type": "code",
   "execution_count": 42,
   "metadata": {},
   "outputs": [
    {
     "data": {
      "text/plain": [
       "(1000, 6)"
      ]
     },
     "execution_count": 42,
     "metadata": {},
     "output_type": "execute_result"
    }
   ],
   "source": [
    "df.shape"
   ]
  },
  {
   "cell_type": "code",
   "execution_count": 40,
   "metadata": {},
   "outputs": [
    {
     "data": {
      "text/plain": [
       "Index(['Unnamed: 0', 'reviews', 'stars', 'date', 'country', 'verified',\n",
       "       'corpus'],\n",
       "      dtype='object')"
      ]
     },
     "execution_count": 40,
     "metadata": {},
     "output_type": "execute_result"
    }
   ],
   "source": [
    "\n",
    "df.columns"
   ]
  },
  {
   "cell_type": "code",
   "execution_count": 41,
   "metadata": {},
   "outputs": [
    {
     "data": {
      "text/html": [
       "<div>\n",
       "<style scoped>\n",
       "    .dataframe tbody tr th:only-of-type {\n",
       "        vertical-align: middle;\n",
       "    }\n",
       "\n",
       "    .dataframe tbody tr th {\n",
       "        vertical-align: top;\n",
       "    }\n",
       "\n",
       "    .dataframe thead th {\n",
       "        text-align: right;\n",
       "    }\n",
       "</style>\n",
       "<table border=\"1\" class=\"dataframe\">\n",
       "  <thead>\n",
       "    <tr style=\"text-align: right;\">\n",
       "      <th></th>\n",
       "      <th>reviews</th>\n",
       "      <th>stars</th>\n",
       "      <th>date</th>\n",
       "      <th>country</th>\n",
       "      <th>verified</th>\n",
       "      <th>corpus</th>\n",
       "    </tr>\n",
       "  </thead>\n",
       "  <tbody>\n",
       "    <tr>\n",
       "      <th>0</th>\n",
       "      <td>✅ Trip Verified | The customer services (call ...</td>\n",
       "      <td>5</td>\n",
       "      <td>2023-10-14</td>\n",
       "      <td>United Kingdom</td>\n",
       "      <td>True</td>\n",
       "      <td>customer service call centre etc atrocious som...</td>\n",
       "    </tr>\n",
       "    <tr>\n",
       "      <th>1</th>\n",
       "      <td>✅ Trip Verified |   I am a frequent flyer with...</td>\n",
       "      <td>3</td>\n",
       "      <td>2023-10-14</td>\n",
       "      <td>United Kingdom</td>\n",
       "      <td>True</td>\n",
       "      <td>frequent flyer ba last year noted rating given...</td>\n",
       "    </tr>\n",
       "    <tr>\n",
       "      <th>2</th>\n",
       "      <td>Not Verified |  Flew with BA to Punta Cana. To...</td>\n",
       "      <td>5</td>\n",
       "      <td>2023-10-12</td>\n",
       "      <td>United Kingdom</td>\n",
       "      <td>False</td>\n",
       "      <td>verified flew ba punta cana took trouble reser...</td>\n",
       "    </tr>\n",
       "    <tr>\n",
       "      <th>3</th>\n",
       "      <td>✅ Trip Verified |   They downgraded me from bu...</td>\n",
       "      <td>4</td>\n",
       "      <td>2023-10-12</td>\n",
       "      <td>Australia</td>\n",
       "      <td>True</td>\n",
       "      <td>hey downgraded business premium economy took t...</td>\n",
       "    </tr>\n",
       "    <tr>\n",
       "      <th>4</th>\n",
       "      <td>✅ Trip Verified |   The already delayed aircra...</td>\n",
       "      <td>1</td>\n",
       "      <td>2023-10-11</td>\n",
       "      <td>United Kingdom</td>\n",
       "      <td>True</td>\n",
       "      <td>already delayed aircraft landed apart small ba...</td>\n",
       "    </tr>\n",
       "    <tr>\n",
       "      <th>...</th>\n",
       "      <td>...</td>\n",
       "      <td>...</td>\n",
       "      <td>...</td>\n",
       "      <td>...</td>\n",
       "      <td>...</td>\n",
       "      <td>...</td>\n",
       "    </tr>\n",
       "    <tr>\n",
       "      <th>995</th>\n",
       "      <td>✅ Trip Verified |  Los Angeles to London Heath...</td>\n",
       "      <td>7</td>\n",
       "      <td>2018-12-23</td>\n",
       "      <td>United States</td>\n",
       "      <td>True</td>\n",
       "      <td>los angeles london heathrow poor customer serv...</td>\n",
       "    </tr>\n",
       "    <tr>\n",
       "      <th>996</th>\n",
       "      <td>✅ Trip Verified |  Our flight from Seattle to ...</td>\n",
       "      <td>1</td>\n",
       "      <td>2018-12-23</td>\n",
       "      <td>United States</td>\n",
       "      <td>True</td>\n",
       "      <td>flight seattle london november th canceled due...</td>\n",
       "    </tr>\n",
       "    <tr>\n",
       "      <th>997</th>\n",
       "      <td>✅ Trip Verified |  Gatwick to Barbados. We fle...</td>\n",
       "      <td>10</td>\n",
       "      <td>2018-12-22</td>\n",
       "      <td>United Kingdom</td>\n",
       "      <td>True</td>\n",
       "      <td>gatwick barbados flew gatwick th december back...</td>\n",
       "    </tr>\n",
       "    <tr>\n",
       "      <th>998</th>\n",
       "      <td>✅ Trip Verified |  Moscow to London. Fantastic...</td>\n",
       "      <td>2</td>\n",
       "      <td>2018-12-19</td>\n",
       "      <td>United Kingdom</td>\n",
       "      <td>True</td>\n",
       "      <td>moscow london fantastic first class service mo...</td>\n",
       "    </tr>\n",
       "    <tr>\n",
       "      <th>999</th>\n",
       "      <td>✅ Trip Verified |  Johannesburg to London . Fo...</td>\n",
       "      <td>3</td>\n",
       "      <td>2018-12-19</td>\n",
       "      <td>United Kingdom</td>\n",
       "      <td>True</td>\n",
       "      <td>johannesburg london supper asked warm hot wate...</td>\n",
       "    </tr>\n",
       "  </tbody>\n",
       "</table>\n",
       "<p>1000 rows × 6 columns</p>\n",
       "</div>"
      ],
      "text/plain": [
       "                                               reviews  stars       date  \\\n",
       "0    ✅ Trip Verified | The customer services (call ...      5 2023-10-14   \n",
       "1    ✅ Trip Verified |   I am a frequent flyer with...      3 2023-10-14   \n",
       "2    Not Verified |  Flew with BA to Punta Cana. To...      5 2023-10-12   \n",
       "3    ✅ Trip Verified |   They downgraded me from bu...      4 2023-10-12   \n",
       "4    ✅ Trip Verified |   The already delayed aircra...      1 2023-10-11   \n",
       "..                                                 ...    ...        ...   \n",
       "995  ✅ Trip Verified |  Los Angeles to London Heath...      7 2018-12-23   \n",
       "996  ✅ Trip Verified |  Our flight from Seattle to ...      1 2018-12-23   \n",
       "997  ✅ Trip Verified |  Gatwick to Barbados. We fle...     10 2018-12-22   \n",
       "998  ✅ Trip Verified |  Moscow to London. Fantastic...      2 2018-12-19   \n",
       "999  ✅ Trip Verified |  Johannesburg to London . Fo...      3 2018-12-19   \n",
       "\n",
       "            country  verified  \\\n",
       "0    United Kingdom      True   \n",
       "1    United Kingdom      True   \n",
       "2    United Kingdom     False   \n",
       "3         Australia      True   \n",
       "4    United Kingdom      True   \n",
       "..              ...       ...   \n",
       "995   United States      True   \n",
       "996   United States      True   \n",
       "997  United Kingdom      True   \n",
       "998  United Kingdom      True   \n",
       "999  United Kingdom      True   \n",
       "\n",
       "                                                corpus  \n",
       "0    customer service call centre etc atrocious som...  \n",
       "1    frequent flyer ba last year noted rating given...  \n",
       "2    verified flew ba punta cana took trouble reser...  \n",
       "3    hey downgraded business premium economy took t...  \n",
       "4    already delayed aircraft landed apart small ba...  \n",
       "..                                                 ...  \n",
       "995  los angeles london heathrow poor customer serv...  \n",
       "996  flight seattle london november th canceled due...  \n",
       "997  gatwick barbados flew gatwick th december back...  \n",
       "998  moscow london fantastic first class service mo...  \n",
       "999  johannesburg london supper asked warm hot wate...  \n",
       "\n",
       "[1000 rows x 6 columns]"
      ]
     },
     "execution_count": 41,
     "metadata": {},
     "output_type": "execute_result"
    }
   ],
   "source": [
    "del df['Unnamed: 0']\n",
    "df.reset_index(drop=True)"
   ]
  },
  {
   "cell_type": "markdown",
   "metadata": {},
   "source": [
    "Looking at our data to glean some info"
   ]
  },
  {
   "cell_type": "markdown",
   "metadata": {},
   "source": [
    "Check if there are any null values"
   ]
  },
  {
   "cell_type": "code",
   "execution_count": 4,
   "metadata": {},
   "outputs": [
    {
     "data": {
      "text/plain": [
       "Unnamed: 0    0\n",
       "reviews       0\n",
       "stars         0\n",
       "date          0\n",
       "country       0\n",
       "dtype: int64"
      ]
     },
     "execution_count": 4,
     "metadata": {},
     "output_type": "execute_result"
    }
   ],
   "source": [
    "df.isnull().sum()"
   ]
  },
  {
   "cell_type": "markdown",
   "metadata": {},
   "source": [
    "Checking the datatype for each columns"
   ]
  },
  {
   "cell_type": "code",
   "execution_count": 12,
   "metadata": {},
   "outputs": [
    {
     "data": {
      "text/plain": [
       "Unnamed: 0     int64\n",
       "reviews       object\n",
       "stars          int64\n",
       "date          object\n",
       "country       object\n",
       "dtype: object"
      ]
     },
     "execution_count": 12,
     "metadata": {},
     "output_type": "execute_result"
    }
   ],
   "source": [
    "df.dtypes"
   ]
  },
  {
   "cell_type": "markdown",
   "metadata": {},
   "source": [
    "Cleaning the stars Column first"
   ]
  },
  {
   "cell_type": "code",
   "execution_count": 10,
   "metadata": {},
   "outputs": [
    {
     "data": {
      "text/plain": [
       "1     348\n",
       "2     119\n",
       "10     98\n",
       "3      93\n",
       "9      77\n",
       "8      70\n",
       "5      58\n",
       "4      56\n",
       "7      45\n",
       "6      36\n",
       "Name: stars, dtype: int64"
      ]
     },
     "execution_count": 10,
     "metadata": {},
     "output_type": "execute_result"
    }
   ],
   "source": [
    "df.stars.value_counts()"
   ]
  },
  {
   "cell_type": "markdown",
   "metadata": {},
   "source": [
    "Formating the date column"
   ]
  },
  {
   "cell_type": "code",
   "execution_count": 14,
   "metadata": {},
   "outputs": [
    {
     "data": {
      "text/plain": [
       "0     2023-10-14\n",
       "1     2023-10-14\n",
       "2     2023-10-12\n",
       "3     2023-10-12\n",
       "4     2023-10-11\n",
       "         ...    \n",
       "995   2018-12-23\n",
       "996   2018-12-23\n",
       "997   2018-12-22\n",
       "998   2018-12-19\n",
       "999   2018-12-19\n",
       "Name: date, Length: 1000, dtype: datetime64[ns]"
      ]
     },
     "execution_count": 14,
     "metadata": {},
     "output_type": "execute_result"
    }
   ],
   "source": [
    "df.date=pd.to_datetime(df.date)\n",
    "df.date"
   ]
  },
  {
   "cell_type": "code",
   "execution_count": 15,
   "metadata": {},
   "outputs": [
    {
     "data": {
      "text/html": [
       "<div>\n",
       "<style scoped>\n",
       "    .dataframe tbody tr th:only-of-type {\n",
       "        vertical-align: middle;\n",
       "    }\n",
       "\n",
       "    .dataframe tbody tr th {\n",
       "        vertical-align: top;\n",
       "    }\n",
       "\n",
       "    .dataframe thead th {\n",
       "        text-align: right;\n",
       "    }\n",
       "</style>\n",
       "<table border=\"1\" class=\"dataframe\">\n",
       "  <thead>\n",
       "    <tr style=\"text-align: right;\">\n",
       "      <th></th>\n",
       "      <th>Unnamed: 0</th>\n",
       "      <th>reviews</th>\n",
       "      <th>stars</th>\n",
       "      <th>date</th>\n",
       "      <th>country</th>\n",
       "    </tr>\n",
       "  </thead>\n",
       "  <tbody>\n",
       "    <tr>\n",
       "      <th>0</th>\n",
       "      <td>0</td>\n",
       "      <td>✅ Trip Verified | The customer services (call ...</td>\n",
       "      <td>5</td>\n",
       "      <td>2023-10-14</td>\n",
       "      <td>United Kingdom</td>\n",
       "    </tr>\n",
       "    <tr>\n",
       "      <th>1</th>\n",
       "      <td>1</td>\n",
       "      <td>✅ Trip Verified |   I am a frequent flyer with...</td>\n",
       "      <td>3</td>\n",
       "      <td>2023-10-14</td>\n",
       "      <td>United Kingdom</td>\n",
       "    </tr>\n",
       "    <tr>\n",
       "      <th>2</th>\n",
       "      <td>2</td>\n",
       "      <td>Not Verified |  Flew with BA to Punta Cana. To...</td>\n",
       "      <td>5</td>\n",
       "      <td>2023-10-12</td>\n",
       "      <td>United Kingdom</td>\n",
       "    </tr>\n",
       "    <tr>\n",
       "      <th>3</th>\n",
       "      <td>3</td>\n",
       "      <td>✅ Trip Verified |   They downgraded me from bu...</td>\n",
       "      <td>4</td>\n",
       "      <td>2023-10-12</td>\n",
       "      <td>Australia</td>\n",
       "    </tr>\n",
       "    <tr>\n",
       "      <th>4</th>\n",
       "      <td>4</td>\n",
       "      <td>✅ Trip Verified |   The already delayed aircra...</td>\n",
       "      <td>1</td>\n",
       "      <td>2023-10-11</td>\n",
       "      <td>United Kingdom</td>\n",
       "    </tr>\n",
       "  </tbody>\n",
       "</table>\n",
       "</div>"
      ],
      "text/plain": [
       "   Unnamed: 0                                            reviews  stars  \\\n",
       "0           0  ✅ Trip Verified | The customer services (call ...      5   \n",
       "1           1  ✅ Trip Verified |   I am a frequent flyer with...      3   \n",
       "2           2  Not Verified |  Flew with BA to Punta Cana. To...      5   \n",
       "3           3  ✅ Trip Verified |   They downgraded me from bu...      4   \n",
       "4           4  ✅ Trip Verified |   The already delayed aircra...      1   \n",
       "\n",
       "        date         country  \n",
       "0 2023-10-14  United Kingdom  \n",
       "1 2023-10-14  United Kingdom  \n",
       "2 2023-10-12  United Kingdom  \n",
       "3 2023-10-12       Australia  \n",
       "4 2023-10-11  United Kingdom  "
      ]
     },
     "execution_count": 15,
     "metadata": {},
     "output_type": "execute_result"
    }
   ],
   "source": [
    "df.head(5)"
   ]
  },
  {
   "cell_type": "markdown",
   "metadata": {},
   "source": [
    "Cleaning the reviews column"
   ]
  },
  {
   "cell_type": "code",
   "execution_count": 34,
   "metadata": {},
   "outputs": [],
   "source": [
    "#for lemmatization of words we will use nltk library\n",
    "from nltk.stem import WordNetLemmatizer\n",
    "from nltk.corpus import stopwords\n",
    "lemma = WordNetLemmatizer()\n",
    "\n",
    "#Removing the trip verified part by inserting it into a new column incase we need the info later \n",
    "df['verified'] = df.reviews.str.contains(\"Trip Verified\")\n",
    "review_d=df.reviews.str.strip(\"✅ Trip Verified |\")\n",
    "\n",
    "#create an empty list to collect cleaned data corpus\n",
    "corpus =[]\n",
    "\n",
    "#loop through each review, remove punctuations, small case it, join it and add it to corpus\n",
    "for rev in review_d:\n",
    "    rev = re.sub('[^a-zA-Z]',' ', rev)\n",
    "    rev = rev.lower()\n",
    "    rev = rev.split()\n",
    "    rev = [lemma.lemmatize(word) for word in rev if word not in set(stopwords.words(\"english\"))]\n",
    "    rev = \" \".join(rev)\n",
    "    corpus.append(rev)"
   ]
  },
  {
   "cell_type": "code",
   "execution_count": 35,
   "metadata": {},
   "outputs": [],
   "source": [
    "df['corpus'] = corpus"
   ]
  },
  {
   "cell_type": "code",
   "execution_count": 36,
   "metadata": {},
   "outputs": [
    {
     "data": {
      "text/html": [
       "<div>\n",
       "<style scoped>\n",
       "    .dataframe tbody tr th:only-of-type {\n",
       "        vertical-align: middle;\n",
       "    }\n",
       "\n",
       "    .dataframe tbody tr th {\n",
       "        vertical-align: top;\n",
       "    }\n",
       "\n",
       "    .dataframe thead th {\n",
       "        text-align: right;\n",
       "    }\n",
       "</style>\n",
       "<table border=\"1\" class=\"dataframe\">\n",
       "  <thead>\n",
       "    <tr style=\"text-align: right;\">\n",
       "      <th></th>\n",
       "      <th>Unnamed: 0</th>\n",
       "      <th>reviews</th>\n",
       "      <th>stars</th>\n",
       "      <th>date</th>\n",
       "      <th>country</th>\n",
       "      <th>verified</th>\n",
       "      <th>corpus</th>\n",
       "    </tr>\n",
       "  </thead>\n",
       "  <tbody>\n",
       "    <tr>\n",
       "      <th>0</th>\n",
       "      <td>0</td>\n",
       "      <td>✅ Trip Verified | The customer services (call ...</td>\n",
       "      <td>5</td>\n",
       "      <td>2023-10-14</td>\n",
       "      <td>United Kingdom</td>\n",
       "      <td>True</td>\n",
       "      <td>customer service call centre etc atrocious som...</td>\n",
       "    </tr>\n",
       "    <tr>\n",
       "      <th>1</th>\n",
       "      <td>1</td>\n",
       "      <td>✅ Trip Verified |   I am a frequent flyer with...</td>\n",
       "      <td>3</td>\n",
       "      <td>2023-10-14</td>\n",
       "      <td>United Kingdom</td>\n",
       "      <td>True</td>\n",
       "      <td>frequent flyer ba last year noted rating given...</td>\n",
       "    </tr>\n",
       "    <tr>\n",
       "      <th>2</th>\n",
       "      <td>2</td>\n",
       "      <td>Not Verified |  Flew with BA to Punta Cana. To...</td>\n",
       "      <td>5</td>\n",
       "      <td>2023-10-12</td>\n",
       "      <td>United Kingdom</td>\n",
       "      <td>False</td>\n",
       "      <td>verified flew ba punta cana took trouble reser...</td>\n",
       "    </tr>\n",
       "    <tr>\n",
       "      <th>3</th>\n",
       "      <td>3</td>\n",
       "      <td>✅ Trip Verified |   They downgraded me from bu...</td>\n",
       "      <td>4</td>\n",
       "      <td>2023-10-12</td>\n",
       "      <td>Australia</td>\n",
       "      <td>True</td>\n",
       "      <td>hey downgraded business premium economy took t...</td>\n",
       "    </tr>\n",
       "    <tr>\n",
       "      <th>4</th>\n",
       "      <td>4</td>\n",
       "      <td>✅ Trip Verified |   The already delayed aircra...</td>\n",
       "      <td>1</td>\n",
       "      <td>2023-10-11</td>\n",
       "      <td>United Kingdom</td>\n",
       "      <td>True</td>\n",
       "      <td>already delayed aircraft landed apart small ba...</td>\n",
       "    </tr>\n",
       "  </tbody>\n",
       "</table>\n",
       "</div>"
      ],
      "text/plain": [
       "   Unnamed: 0                                            reviews  stars  \\\n",
       "0           0  ✅ Trip Verified | The customer services (call ...      5   \n",
       "1           1  ✅ Trip Verified |   I am a frequent flyer with...      3   \n",
       "2           2  Not Verified |  Flew with BA to Punta Cana. To...      5   \n",
       "3           3  ✅ Trip Verified |   They downgraded me from bu...      4   \n",
       "4           4  ✅ Trip Verified |   The already delayed aircra...      1   \n",
       "\n",
       "        date         country  verified  \\\n",
       "0 2023-10-14  United Kingdom      True   \n",
       "1 2023-10-14  United Kingdom      True   \n",
       "2 2023-10-12  United Kingdom     False   \n",
       "3 2023-10-12       Australia      True   \n",
       "4 2023-10-11  United Kingdom      True   \n",
       "\n",
       "                                              corpus  \n",
       "0  customer service call centre etc atrocious som...  \n",
       "1  frequent flyer ba last year noted rating given...  \n",
       "2  verified flew ba punta cana took trouble reser...  \n",
       "3  hey downgraded business premium economy took t...  \n",
       "4  already delayed aircraft landed apart small ba...  "
      ]
     },
     "execution_count": 36,
     "metadata": {},
     "output_type": "execute_result"
    }
   ],
   "source": [
    "df.head(5)"
   ]
  },
  {
   "cell_type": "code",
   "execution_count": 43,
   "metadata": {},
   "outputs": [],
   "source": [
    "df.to_csv(\"C:/python(me)/british-airways/cleaned-BA-reviews.csv\")"
   ]
  }
 ],
 "metadata": {
  "kernelspec": {
   "display_name": "Python 3",
   "language": "python",
   "name": "python3"
  },
  "language_info": {
   "codemirror_mode": {
    "name": "ipython",
    "version": 3
   },
   "file_extension": ".py",
   "mimetype": "text/x-python",
   "name": "python",
   "nbconvert_exporter": "python",
   "pygments_lexer": "ipython3",
   "version": "3.10.5"
  }
 },
 "nbformat": 4,
 "nbformat_minor": 2
}
