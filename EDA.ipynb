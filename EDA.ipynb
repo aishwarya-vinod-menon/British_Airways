{
 "cells": [
  {
   "cell_type": "code",
   "execution_count": 1,
   "metadata": {},
   "outputs": [],
   "source": [
    "import matplotlib.pyplot as plt\n",
    "import pandas as pd\n",
    "import numpy as np\n"
   ]
  },
  {
   "cell_type": "code",
   "execution_count": 2,
   "metadata": {},
   "outputs": [],
   "source": [
    "df=pd.read_csv(\"C:/python(me)/british-airways/cleaned-BA-reviews.csv\")"
   ]
  },
  {
   "cell_type": "code",
   "execution_count": 5,
   "metadata": {},
   "outputs": [
    {
     "data": {
      "text/html": [
       "<div>\n",
       "<style scoped>\n",
       "    .dataframe tbody tr th:only-of-type {\n",
       "        vertical-align: middle;\n",
       "    }\n",
       "\n",
       "    .dataframe tbody tr th {\n",
       "        vertical-align: top;\n",
       "    }\n",
       "\n",
       "    .dataframe thead th {\n",
       "        text-align: right;\n",
       "    }\n",
       "</style>\n",
       "<table border=\"1\" class=\"dataframe\">\n",
       "  <thead>\n",
       "    <tr style=\"text-align: right;\">\n",
       "      <th></th>\n",
       "      <th>Unnamed: 0</th>\n",
       "      <th>reviews</th>\n",
       "      <th>stars</th>\n",
       "      <th>date</th>\n",
       "      <th>country</th>\n",
       "      <th>verified</th>\n",
       "      <th>corpus</th>\n",
       "    </tr>\n",
       "  </thead>\n",
       "  <tbody>\n",
       "    <tr>\n",
       "      <th>0</th>\n",
       "      <td>0</td>\n",
       "      <td>✅ Trip Verified | The customer services (call ...</td>\n",
       "      <td>5</td>\n",
       "      <td>2023-10-14</td>\n",
       "      <td>United Kingdom</td>\n",
       "      <td>True</td>\n",
       "      <td>customer service call centre etc atrocious som...</td>\n",
       "    </tr>\n",
       "    <tr>\n",
       "      <th>1</th>\n",
       "      <td>1</td>\n",
       "      <td>✅ Trip Verified |   I am a frequent flyer with...</td>\n",
       "      <td>3</td>\n",
       "      <td>2023-10-14</td>\n",
       "      <td>United Kingdom</td>\n",
       "      <td>True</td>\n",
       "      <td>frequent flyer ba last year noted rating given...</td>\n",
       "    </tr>\n",
       "    <tr>\n",
       "      <th>2</th>\n",
       "      <td>2</td>\n",
       "      <td>Not Verified |  Flew with BA to Punta Cana. To...</td>\n",
       "      <td>5</td>\n",
       "      <td>2023-10-12</td>\n",
       "      <td>United Kingdom</td>\n",
       "      <td>False</td>\n",
       "      <td>verified flew ba punta cana took trouble reser...</td>\n",
       "    </tr>\n",
       "    <tr>\n",
       "      <th>3</th>\n",
       "      <td>3</td>\n",
       "      <td>✅ Trip Verified |   They downgraded me from bu...</td>\n",
       "      <td>4</td>\n",
       "      <td>2023-10-12</td>\n",
       "      <td>Australia</td>\n",
       "      <td>True</td>\n",
       "      <td>hey downgraded business premium economy took t...</td>\n",
       "    </tr>\n",
       "    <tr>\n",
       "      <th>4</th>\n",
       "      <td>4</td>\n",
       "      <td>✅ Trip Verified |   The already delayed aircra...</td>\n",
       "      <td>1</td>\n",
       "      <td>2023-10-11</td>\n",
       "      <td>United Kingdom</td>\n",
       "      <td>True</td>\n",
       "      <td>already delayed aircraft landed apart small ba...</td>\n",
       "    </tr>\n",
       "  </tbody>\n",
       "</table>\n",
       "</div>"
      ],
      "text/plain": [
       "   Unnamed: 0                                            reviews  stars  \\\n",
       "0           0  ✅ Trip Verified | The customer services (call ...      5   \n",
       "1           1  ✅ Trip Verified |   I am a frequent flyer with...      3   \n",
       "2           2  Not Verified |  Flew with BA to Punta Cana. To...      5   \n",
       "3           3  ✅ Trip Verified |   They downgraded me from bu...      4   \n",
       "4           4  ✅ Trip Verified |   The already delayed aircra...      1   \n",
       "\n",
       "         date         country  verified  \\\n",
       "0  2023-10-14  United Kingdom      True   \n",
       "1  2023-10-14  United Kingdom      True   \n",
       "2  2023-10-12  United Kingdom     False   \n",
       "3  2023-10-12       Australia      True   \n",
       "4  2023-10-11  United Kingdom      True   \n",
       "\n",
       "                                              corpus  \n",
       "0  customer service call centre etc atrocious som...  \n",
       "1  frequent flyer ba last year noted rating given...  \n",
       "2  verified flew ba punta cana took trouble reser...  \n",
       "3  hey downgraded business premium economy took t...  \n",
       "4  already delayed aircraft landed apart small ba...  "
      ]
     },
     "execution_count": 5,
     "metadata": {},
     "output_type": "execute_result"
    }
   ],
   "source": [
    "df.head(5)"
   ]
  },
  {
   "cell_type": "code",
   "execution_count": 6,
   "metadata": {},
   "outputs": [
    {
     "data": {
      "text/plain": [
       "(1000, 7)"
      ]
     },
     "execution_count": 6,
     "metadata": {},
     "output_type": "execute_result"
    }
   ],
   "source": [
    "df.shape"
   ]
  },
  {
   "cell_type": "code",
   "execution_count": 10,
   "metadata": {},
   "outputs": [
    {
     "data": {
      "text/plain": [
       "Text(0, 0.5, 'Count')"
      ]
     },
     "execution_count": 10,
     "metadata": {},
     "output_type": "execute_result"
    },
    {
     "data": {
      "image/png": "[encoded data removed]",
      "text/plain": [
       "<Figure size 432x288 with 1 Axes>"
      ]
     },
     "metadata": {
      "needs_background": "light"
     },
     "output_type": "display_data"
    }
   ],
   "source": [
    "# A graph to show \n",
    "df.stars.value_counts().plot(kind=\"bar\")\n",
    "plt.title(\"Star Rating\")\n",
    "plt.xlabel(\"Stars\")\n",
    "plt.ylabel(\"Count\")"
   ]
  },
  {
   "cell_type": "code",
   "execution_count": 13,
   "metadata": {},
   "outputs": [
    {
     "data": {
      "text/plain": [
       "4.143"
      ]
     },
     "execution_count": 13,
     "metadata": {},
     "output_type": "execute_result"
    }
   ],
   "source": [
    "#To find the average star Rating\n",
    "df.stars.mean()"
   ]
  }
 ],
 "metadata": {
  "kernelspec": {
   "display_name": "Python 3",
   "language": "python",
   "name": "python3"
  },
  "language_info": {
   "codemirror_mode": {
    "name": "ipython",
    "version": 3
   },
   "file_extension": ".py",
   "mimetype": "text/x-python",
   "name": "python",
   "nbconvert_exporter": "python",
   "pygments_lexer": "ipython3",
   "version": "3.10.5"
  }
 },
 "nbformat": 4,
 "nbformat_minor": 2
}
